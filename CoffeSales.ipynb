{
 "cells": [
  {
   "cell_type": "markdown",
   "id": "2299d353",
   "metadata": {},
   "source": [
    "# Estudo sobre Classificação de Tipos de Café"
   ]
  },
  {
   "cell_type": "markdown",
   "id": "f7d27063",
   "metadata": {},
   "source": [
    "## 1. Sobre o Projeto"
   ]
  },
  {
   "cell_type": "markdown",
   "id": "a73a4224",
   "metadata": {},
   "source": [
    "Nesse projeto, buscamos pesquisar e entender os padrões de vendas de café e a construção de algoritmos capazes de predizer o tipo de café baseado em características temporais, de preço e contexto de compra.\n",
    "Para isso, utilizamos a base de dados de vendas de café com informações sobre horários, dias da semana, preços e tipos de pagamento."
   ]
  },
  {
   "cell_type": "markdown",
   "id": "0a6e4776",
   "metadata": {},
   "source": [
    "Essa base de dados possui informações sobre vendas de café, com os seguintes atributos:\n",
    "- Data e hora da venda\n",
    "- Nome do café\n",
    "- Preço (money)\n",
    "- Tipo de pagamento (cash_type)\n",
    "- Período do dia (Time_of_Day)\n",
    "- Dia da semana (Weekday)\n",
    "- Mês (Month_name)\n",
    "- Ordenação temporal (Weekdaysort, Monthsort)\n",
    "- Hora do dia (hour_of_day)"
   ]
  },
  {
   "cell_type": "markdown",
   "id": "31c6261e",
   "metadata": {},
   "source": [
    "## 1.1 Metodologia"
   ]
  },
  {
   "cell_type": "markdown",
   "id": "917b0925",
   "metadata": {},
   "source": [
    "Como nosso objetivo principal é chegarmos a uma predição de tipos de café baseado em características de venda, iremos estabelecer algumas regras para execução desse estudo.\n",
    "\n",
    "Para nos auxiliar com o estudo, iremos focar nas propriedades: hora do dia, preço, tipo de pagamento, período do dia, dia da semana, mês e características temporais extraídas."
   ]
  },
  {
   "cell_type": "markdown",
   "id": "b63f1111",
   "metadata": {},
   "source": [
    "## 1.2 Algoritmos Utilizados"
   ]
  },
  {
   "cell_type": "markdown",
   "id": "094ab092",
   "metadata": {},
   "source": [
    "Para auxiliar na predição do nosso modelo, utilizaremos três algoritmos de classificação diferentes:\n",
    "- **K-Nearest Neighbors (KNN)**: Algoritmo baseado em proximidade que classifica baseado nos vizinhos mais próximos\n",
    "- **Árvore de Decisão**: Algoritmo que cria uma estrutura de decisão em árvore para classificação\n",
    "- **Random Forest**: Ensemble de árvores de decisão que combina múltiplas árvores para melhor precisão\n",
    "\n",
    "Isso será importante para comparar diferentes abordagens de classificação e escolher o melhor modelo para nossos dados."
   ]
  },
  {
   "cell_type": "markdown",
   "id": "956a092a",
   "metadata": {},
   "source": [
    "# 2. Algoritmo do projeto"
   ]
  },
  {
   "cell_type": "markdown",
   "id": "a044f09b",
   "metadata": {},
   "source": [
    "### Variáveis globais"
   ]
  },
  {
   "cell_type": "code",
   "execution_count": null,
   "id": "5434a289",
   "metadata": {},
   "outputs": [],
   "source": [
    "DATASET_PATH = \"./dataset/Coffe_sales.csv\""
   ]
  },
  {
   "cell_type": "markdown",
   "id": "25fd41ab",
   "metadata": {},
   "source": [
    "## 2.1 Importação de bibliotecas"
   ]
  },
  {
   "cell_type": "code",
   "execution_count": null,
   "id": "27a9c6c0",
   "metadata": {},
   "outputs": [],
   "source": [
    "import pandas as pd\n",
    "import numpy as np\n",
    "from sklearn.model_selection import train_test_split\n",
    "from sklearn.preprocessing import LabelEncoder, StandardScaler\n",
    "from sklearn.neighbors import KNeighborsClassifier\n",
    "from sklearn.tree import DecisionTreeClassifier\n",
    "from sklearn.ensemble import RandomForestClassifier\n",
    "from sklearn.metrics import classification_report, confusion_matrix, accuracy_score\n",
    "import matplotlib.pyplot as plt\n",
    "import seaborn as sns\n",
    "from datetime import datetime\n",
    "import warnings\n",
    "warnings.filterwarnings('ignore')"
   ]
  },
  {
   "cell_type": "markdown",
   "id": "5f0232ed",
   "metadata": {},
   "source": [
    "## 2.2 Atribuição da base de dados"
   ]
  },
  {
   "cell_type": "code",
   "execution_count": null,
   "id": "51b8dc87",
   "metadata": {},
   "outputs": [],
   "source": [
    "df = pd.read_csv(DATASET_PATH)\n",
    "\n",
    "print(f\"Total de registros: {len(df)}\")\n",
    "print(f\"Tipos de café únicos: {df['coffee_name'].nunique()}\")\n",
    "print(f\"Faixa de preços: R${df['money'].min():.2f} - R${df['money'].max():.2f}\")\n",
    "\n",
    "df.head()"
   ]
  },
  {
   "cell_type": "markdown",
   "id": "2ba9a634",
   "metadata": {},
   "source": [
    "# 3. Pré processamento de dados"
   ]
  },
  {
   "cell_type": "markdown",
   "id": "8a013b85",
   "metadata": {},
   "source": [
    "Vamos preparar os dados criando a coluna DateTime e extraindo features temporais adicionais que podem ser úteis para a classificação."
   ]
  },
  {
   "cell_type": "code",
   "execution_count": null,
   "id": "4a2e8649",
   "metadata": {},
   "outputs": [],
   "source": [
    "df['DateTime'] = pd.to_datetime(df['Date'] + ' ' + df['Time'], format='mixed')\n",
    "\n",
    "df['Hour'] = df['DateTime'].dt.hour\n",
    "df['DayOfWeek'] = df['DateTime'].dt.dayofweek  # 0=Monday, 6=Sunday\n",
    "df['IsWeekend'] = (df['DayOfWeek'] >= 5).astype(int)\n",
    "\n",
    "# Dividindo o range em 4 intervalos iguais\n",
    "df['PriceRange'] = pd.cut(df['money'], \n",
    "                         bins=[18.12, 23.265, 28.41, 33.555, np.inf],  \n",
    "                        labels=['Baixo', 'Medio', 'Alto', 'Premium'])\n",
    "\n",
    "\n",
    "print(\"Features temporais criadas:\")\n",
    "print(f\"- Hour: {df['Hour'].min()} a {df['Hour'].max()}\")\n",
    "print(f\"- DayOfWeek: {df['DayOfWeek'].unique()}\")\n",
    "print(f\"- IsWeekend: {df['IsWeekend'].value_counts().to_dict()}\")\n",
    "print(f\"- PriceRange: {df['PriceRange'].value_counts().to_dict()}\")\n",
    "\n",
    "df.head()"
   ]
  },
  {
   "cell_type": "markdown",
   "id": "13c8f839",
   "metadata": {},
   "source": [
    "## 3.1 Análise Exploratória dos Dados"
   ]
  },
  {
   "cell_type": "code",
   "execution_count": null,
   "id": "ad217ec8",
   "metadata": {},
   "outputs": [],
   "source": [
    "print(\"Análise dos Tipos de Café:\")\n",
    "coffee_counts = df['coffee_name'].value_counts()\n",
    "for coffee, count in coffee_counts.items():\n",
    "    print(f\"   {coffee}: {count} vendas ({count/len(df)*100:.1f}%)\")\n",
    "\n",
    "plt.figure(figsize=(12, 6))\n",
    "plt.subplot(1, 2, 1)\n",
    "coffee_counts.plot(kind='bar')\n",
    "plt.title('Distribuição dos Tipos de Café')\n",
    "plt.xlabel('Tipo de Café')\n",
    "plt.ylabel('Número de Vendas')\n",
    "plt.xticks(rotation=45)\n",
    "\n",
    "plt.subplot(1, 2, 2)\n",
    "df['PriceRange'].value_counts().plot(kind='pie', autopct='%1.1f%%')\n",
    "plt.title('Distribuição das Faixas de Preço')\n",
    "plt.tight_layout()\n",
    "plt.show()"
   ]
  },
  {
   "cell_type": "markdown",
   "id": "539cdc03",
   "metadata": {},
   "source": [
    "Agora iremos aplicar a codificação (Label Encoding) para as variáveis categóricas"
   ]
  },
  {
   "cell_type": "code",
   "execution_count": null,
   "id": "19a74dbc",
   "metadata": {},
   "outputs": [],
   "source": [
    "encoders = {}\n",
    "encoded_data = df.copy()\n",
    "\n",
    "categorical_features = ['cash_type', 'Time_of_Day', 'Weekday', 'Month_name', 'PriceRange']\n",
    "\n",
    "for feature in categorical_features:\n",
    "    if feature in encoded_data.columns:\n",
    "        le = LabelEncoder()\n",
    "        encoded_data[feature + '_encoded'] = le.fit_transform(encoded_data[feature].astype(str))\n",
    "        encoders[feature] = le\n",
    "\n",
    "encoded_columns = [col for col in encoded_data.columns if '_encoded' in col]\n",
    "encoded_data[['coffee_name'] + encoded_columns].head()"
   ]
  },
  {
   "cell_type": "markdown",
   "id": "ff7f2cdd",
   "metadata": {},
   "source": [
    "## 3.2 Preparação das Features para Modelagem"
   ]
  },
  {
   "cell_type": "code",
   "execution_count": null,
   "id": "6f65ced5",
   "metadata": {},
   "outputs": [],
   "source": [
    "feature_columns = [\n",
    "    'cash_type_encoded', 'Time_of_Day_encoded', \n",
    "    'Weekday_encoded', 'Month_name_encoded',\n",
    "    'IsWeekend', 'PriceRange_encoded'\n",
    "]\n",
    "\n",
    "available_features = [col for col in feature_columns if col in encoded_data.columns]\n",
    "missing_features = [col for col in feature_columns if col not in encoded_data.columns]\n",
    "\n",
    "print(f\"Features disponíveis: {len(available_features)}\")\n",
    "print(f\"Features disponíveis: {available_features}\")\n",
    "if missing_features:\n",
    "    print(f\"Features não encontradas: {missing_features}\")\n",
    "\n",
    "X = encoded_data[feature_columns]\n",
    "y = encoded_data['coffee_name']\n",
    "\n",
    "print(f\"\\nShape dos dados:\")\n",
    "print(f\"X (features): {X.shape}\")\n",
    "print(f\"y (target): {y.shape}\")\n",
    "print(f\"Classes únicas: {y.nunique()}\")"
   ]
  },
  {
   "cell_type": "markdown",
   "id": "d3675e71",
   "metadata": {},
   "source": [
    "# 4. Criando algoritmos de classificação"
   ]
  },
  {
   "cell_type": "markdown",
   "id": "24e2ddb1",
   "metadata": {},
   "source": [
    "Preparando os dados de teste e treinamento"
   ]
  },
  {
   "cell_type": "code",
   "execution_count": null,
   "id": "3379baaf",
   "metadata": {},
   "outputs": [],
   "source": [
    "X_train, X_test, y_train, y_test = train_test_split(\n",
    "    X, y, test_size=0.1, random_state=42, stratify=y\n",
    ")\n",
    "\n",
    "\n",
    "print(f\"Tamanho do dataset completo: {len(encoded_data)}\")\n",
    "print(f\"Tamanho do conjunto de treinamento: {len(X_train)} ({len(X_train)/len(encoded_data)*100:.1f}%)\")\n",
    "print(f\"Tamanho do conjunto de teste: {len(X_test)} ({len(X_test)/len(encoded_data)*100:.1f}%)\")\n",
    "print(f\"\\nDistribuição de classes no conjunto de treinamento:\")\n",
    "print(y_train.value_counts())\n",
    "print(f\"\\nDistribuição de classes no conjunto de teste:\")\n",
    "print(y_test.value_counts())"
   ]
  },
  {
   "cell_type": "markdown",
   "id": "0a79d128",
   "metadata": {},
   "source": [
    "## 4.1 K-Nearest Neighbors (KNN)"
   ]
  },
  {
   "cell_type": "code",
   "execution_count": null,
   "id": "f98cd579",
   "metadata": {},
   "outputs": [],
   "source": [
    "scaler = StandardScaler()\n",
    "X_train_scaled = scaler.fit_transform(X_train)\n",
    "X_test_scaled = scaler.transform(X_test)\n",
    "\n",
    "knn_model = KNeighborsClassifier(n_neighbors=5)\n",
    "knn_model.fit(X_train_scaled, y_train)\n",
    "\n",
    "knn_predictions = knn_model.predict(X_test_scaled)\n",
    "knn_accuracy = accuracy_score(y_test, knn_predictions)\n",
    "\n",
    "print(f\"KNN - Acurácia: {knn_accuracy:.4f}\")"
   ]
  },
  {
   "cell_type": "markdown",
   "id": "ee83c8bc",
   "metadata": {},
   "source": [
    "## 4.2 Árvore de Decisão"
   ]
  },
  {
   "cell_type": "code",
   "execution_count": null,
   "id": "90a1f951",
   "metadata": {},
   "outputs": [],
   "source": [
    "dt_model = DecisionTreeClassifier(random_state=42, max_depth=10)\n",
    "dt_model.fit(X_train, y_train)\n",
    "\n",
    "dt_predictions = dt_model.predict(X_test)\n",
    "dt_accuracy = accuracy_score(y_test, dt_predictions)\n",
    "\n",
    "print(f\"Decision Tree - Acurácia: {dt_accuracy:.4f}\")\n",
    "\n",
    "from sklearn.tree import plot_tree\n",
    "\n",
    "plt.figure(figsize=(20, 10))\n",
    "plot_tree(dt_model, feature_names=available_features, \n",
    "          class_names=dt_model.classes_, filled=True, fontsize=8, max_depth=3)\n",
    "plt.title('Árvore de Decisão - Classificação de Tipos de Café')\n",
    "plt.show()"
   ]
  },
  {
   "cell_type": "markdown",
   "id": "f54e2b80",
   "metadata": {},
   "source": [
    "## 4.3 Random Forest"
   ]
  },
  {
   "cell_type": "code",
   "execution_count": null,
   "id": "d4716a10",
   "metadata": {},
   "outputs": [],
   "source": [
    "rf_model = RandomForestClassifier(n_estimators=100, random_state=42, max_depth=10)\n",
    "rf_model.fit(X_train, y_train)\n",
    "\n",
    "rf_predictions = rf_model.predict(X_test)\n",
    "rf_accuracy = accuracy_score(y_test, rf_predictions)\n",
    "\n",
    "print(f\"Random Forest - Acurácia: {rf_accuracy:.4f}\")\n",
    "\n",
    "feature_importance = pd.DataFrame({\n",
    "    'feature': available_features,\n",
    "    'importance': rf_model.feature_importances_\n",
    "}).sort_values('importance', ascending=False)\n",
    "\n",
    "print(\"\\nFeatures mais importantes:\")\n",
    "print(feature_importance.head(10))\n",
    "\n",
    "plt.figure(figsize=(10, 8))\n",
    "top_features = feature_importance.head(10)\n",
    "plt.barh(top_features['feature'], top_features['importance'])\n",
    "plt.title('Importância das Features - Random Forest')\n",
    "plt.xlabel('Importância')\n",
    "plt.gca().invert_yaxis()\n",
    "plt.tight_layout()\n",
    "plt.show()"
   ]
  },
  {
   "cell_type": "markdown",
   "id": "e11b4f98",
   "metadata": {},
   "source": [
    "# 5. Comparação e Avaliação dos Modelos"
   ]
  },
  {
   "cell_type": "code",
   "execution_count": null,
   "id": "845d6e50",
   "metadata": {},
   "outputs": [],
   "source": [
    "models_results = {\n",
    "    'KNN': {'accuracy': knn_accuracy, 'predictions': knn_predictions},\n",
    "    'Decision Tree': {'accuracy': dt_accuracy, 'predictions': dt_predictions},\n",
    "    'Random Forest': {'accuracy': rf_accuracy, 'predictions': rf_predictions}\n",
    "}\n",
    "\n",
    "plt.figure(figsize=(12, 5))\n",
    "\n",
    "plt.subplot(1, 2, 1)\n",
    "models = list(models_results.keys())\n",
    "accuracies = [models_results[model]['accuracy'] for model in models]\n",
    "\n",
    "bars = plt.bar(models, accuracies, color=['skyblue', 'lightgreen', 'salmon'])\n",
    "plt.title('Comparação de Acurácia dos Modelos')\n",
    "plt.ylabel('Acurácia')\n",
    "plt.ylim(0, 1)\n",
    "\n",
    "for bar, acc in zip(bars, accuracies):\n",
    "    plt.text(bar.get_x() + bar.get_width()/2, bar.get_height() + 0.01, \n",
    "            f'{acc:.3f}', ha='center', va='bottom')\n",
    "\n",
    "plt.xticks(rotation=45)\n",
    "\n",
    "best_model_name = max(models_results.keys(), key=lambda x: models_results[x]['accuracy'])\n",
    "best_predictions = models_results[best_model_name]['predictions']\n",
    "\n",
    "plt.subplot(1, 2, 2)\n",
    "cm = confusion_matrix(y_test, best_predictions)\n",
    "sns.heatmap(cm, annot=True, fmt='d', cmap='Blues')\n",
    "plt.title(f'Matriz de Confusão - {best_model_name}')\n",
    "plt.xlabel('Predito')\n",
    "plt.ylabel('Real')\n",
    "\n",
    "plt.tight_layout()\n",
    "plt.show()\n",
    "\n",
    "print(f\"Melhor modelo: {best_model_name} com acurácia de {models_results[best_model_name]['accuracy']:.4f}\")"
   ]
  },
  {
   "cell_type": "markdown",
   "id": "detailed_evaluation",
   "metadata": {},
   "source": [
    "## 5.1 Relatórios Detalhados de Classificação"
   ]
  },
  {
   "cell_type": "code",
   "execution_count": null,
   "id": "classification_reports",
   "metadata": {},
   "outputs": [],
   "source": [
    "for model_name, results in models_results.items():\n",
    "    print(f\"\\n{model_name.upper()}\")\n",
    "    print(\"-\" * 50)\n",
    "    print(classification_report(y_test, results['predictions']))\n",
    "    print(\"\\nMatriz de Confusão:\")\n",
    "    cm = confusion_matrix(y_test, results['predictions'])\n",
    "    cm_df = pd.DataFrame(cm, index=np.unique(y_test), columns=np.unique(y_test))\n",
    "    cm_df"
   ]
  },
  {
   "cell_type": "markdown",
   "id": "prediction_example",
   "metadata": {},
   "source": [
    "## 5.2 Exemplo de Predição"
   ]
  },
  {
   "cell_type": "code",
   "execution_count": null,
   "id": "example_prediction",
   "metadata": {},
   "outputs": [],
   "source": [
    "if len(X_test) > 0:\n",
    "    sample_idx = 0\n",
    "    sample_data = X_test.iloc[sample_idx:sample_idx+1]\n",
    "    real_coffee = y_test.iloc[sample_idx]\n",
    "    \n",
    "    print(f\"\\nDados da amostra:\")\n",
    "    for feature, value in zip(available_features, sample_data.iloc[0]):\n",
    "        print(f\"   {feature}: {value}\")\n",
    "    \n",
    "    print(f\"\\n Tipo real: {real_coffee}\")\n",
    "    print(\"\\n Predições dos modelos:\")\n",
    "    \n",
    "    sample_scaled = scaler.transform(sample_data)\n",
    "    knn_pred = knn_model.predict(sample_scaled)[0]\n",
    "    knn_proba = max(knn_model.predict_proba(sample_scaled)[0])\n",
    "    print(f\"   KNN: {knn_pred} (confiança: {knn_proba:.3f})\")\n",
    "    \n",
    "    dt_pred = dt_model.predict(sample_data)[0]\n",
    "    dt_proba = max(dt_model.predict_proba(sample_data)[0])\n",
    "    print(f\"   Decision Tree: {dt_pred} (confiança: {dt_proba:.3f})\")\n",
    "    \n",
    "    rf_pred = rf_model.predict(sample_data)[0]\n",
    "    rf_proba = max(rf_model.predict_proba(sample_data)[0])\n",
    "    print(f\"   Random Forest: {rf_pred} (confiança: {rf_proba:.3f})\")\n",
    "    \n",
    "    print(\"\\n Resultados:\")\n",
    "    models_pred = {'KNN': knn_pred, 'Decision Tree': dt_pred, 'Random Forest': rf_pred}\n",
    "    for model, pred in models_pred.items():\n",
    "        status = \"CORRETO\" if pred == real_coffee else \"INCORRETO\"\n",
    "        print(f\"   {model}: {status}\")"
   ]
  }
 ],
 "metadata": {
  "kernelspec": {
   "display_name": "Python 3",
   "language": "python",
   "name": "python3"
  },
  "language_info": {
   "codemirror_mode": {
    "name": "ipython",
    "version": 3
   },
   "file_extension": ".py",
   "mimetype": "text/x-python",
   "name": "python",
   "nbconvert_exporter": "python",
   "pygments_lexer": "ipython3",
   "version": "3.13.7"
  }
 },
 "nbformat": 4,
 "nbformat_minor": 5
}
