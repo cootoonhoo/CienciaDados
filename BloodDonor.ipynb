{
 "cells": [
  {
   "cell_type": "markdown",
   "id": "2299d353",
   "metadata": {},
   "source": [
    "# Estudo sobre Doação de sangue"
   ]
  },
  {
   "cell_type": "markdown",
   "id": "f7d27063",
   "metadata": {},
   "source": [
    "## 1. Sobre o Projeto"
   ]
  },
  {
   "cell_type": "markdown",
   "id": "a73a4224",
   "metadata": {},
   "source": [
    "Nesse projeto, buscamos pesquisar e entender a similaridade entre doadores de sangue e a construção de um algoritmo capaz de predizer a probabilidade de uma pessoa ser doadora de sangue.\n",
    "Para isso, usamos a base de dados Predicting Blood Donor Availability *(disponíel em : https://www.kaggle.com/datasets/sumedh1507/blood-donor-dataset?resource=download)* para elaboração desse projeto."
   ]
  },
  {
   "cell_type": "markdown",
   "id": "0a6e4776",
   "metadata": {},
   "source": [
    "Essa base de dados possui 10 mil entradas, com os seguintes atributos:\n",
    "- Id de doador\n",
    "- Nome\n",
    "- Email\n",
    "- Senha\n",
    "- Telefone\n",
    "- Cidade\n",
    "- Tipo sanguíneo\n",
    "- Disponibilidade\n",
    "- Meses desde a primeira doação\n",
    "- Número de doações\n",
    "- Pints (500ml) doados\n",
    "- Data de criação"
   ]
  },
  {
   "cell_type": "markdown",
   "id": "31c6261e",
   "metadata": {},
   "source": [
    "## 1.1 Metodologia"
   ]
  },
  {
   "cell_type": "markdown",
   "id": "917b0925",
   "metadata": {},
   "source": [
    "Como nosso objetivo principal é chegarmos a uma predição de uma nova entrada, irems estabeler algumas regras para execução desse estudo.\n",
    "\n",
    "Para nos auxiliar com o estudo, iremos focar apenas nas propriedades: Tipo sanguíneo, Disponibilidade, Meses desde a primeira doação, número de doações e data de criação."
   ]
  },
  {
   "cell_type": "markdown",
   "id": "b63f1111",
   "metadata": {},
   "source": [
    "## 1.2 Agrupamento"
   ]
  },
  {
   "cell_type": "markdown",
   "id": "094ab092",
   "metadata": {},
   "source": [
    "Para auxiliar na predição do nosso modelo, agruparemos nossos dados em dois grupos:\n",
    "- Doadores ativos\n",
    "- Doadores inativos\n",
    "\n",
    "Para fazermos essa classificação, iremos nos basear na condição biológica do corpo humano de esperar entre 60-90 dias para uma nova doação. Isso significa que em 1 ano, o uma pessoa pode doar 6 vezes no máximo.\n",
    "\n",
    "*Referência: [Dia Mundial do Doador de Sangue: 8 coisas que você precisa saber antes de doar](https://portal.pucrs.br/noticias/saude/como-doar-sangue/)*\n",
    "\n",
    "Diante disso, classificaremos os doadores ativos como aqueles que fizeram mais de 3 doações por ano e todos os outros como inativos.\n",
    "\n",
    "Isso será importante para classificação dos doadores na nossa base de dados"
   ]
  },
  {
   "cell_type": "markdown",
   "id": "956a092a",
   "metadata": {},
   "source": [
    "# 2. Algoritmo do projeto"
   ]
  },
  {
   "cell_type": "markdown",
   "id": "a044f09b",
   "metadata": {},
   "source": [
    "### Variáveis globais"
   ]
  },
  {
   "cell_type": "code",
   "execution_count": null,
   "id": "5434a289",
   "metadata": {},
   "outputs": [],
   "source": [
    "DATASET_PATH = \"./dataset/blood_donor_dataset.csv\""
   ]
  },
  {
   "cell_type": "markdown",
   "id": "25fd41ab",
   "metadata": {},
   "source": [
    "## 2.1 Importação de bibliotecas"
   ]
  },
  {
   "cell_type": "code",
   "execution_count": null,
   "id": "27a9c6c0",
   "metadata": {},
   "outputs": [],
   "source": [
    "import pandas as pd\n",
    "from sklearn.tree import DecisionTreeClassifier, plot_tree\n",
    "from sklearn.model_selection import train_test_split\n",
    "from sklearn.metrics import accuracy_score, classification_report, confusion_matrix, roc_curve, roc_auc_score\n",
    "from sklearn.neighbors import KNeighborsClassifier\n",
    "from sklearn.linear_model import LogisticRegression\n",
    "import matplotlib.pyplot as plt"
   ]
  },
  {
   "cell_type": "markdown",
   "id": "5f0232ed",
   "metadata": {},
   "source": [
    "## 2.2 Atribuição da base de dados"
   ]
  },
  {
   "cell_type": "code",
   "execution_count": null,
   "id": "51b8dc87",
   "metadata": {},
   "outputs": [],
   "source": [
    "df = pd.read_csv(DATASET_PATH)\n",
    "df"
   ]
  },
  {
   "cell_type": "markdown",
   "id": "2ba9a634",
   "metadata": {},
   "source": [
    "# 3. Pré processamento de dados"
   ]
  },
  {
   "cell_type": "markdown",
   "id": "8a013b85",
   "metadata": {},
   "source": [
    "Como dito anteriormente, iremos remover alguns dados irrelevantes para a parametrização do nosso (nome, telefone, cidade, etc...). Acreditamos que essas propriedades não impactam/ não fazem sentido para o problema proposto."
   ]
  },
  {
   "cell_type": "code",
   "execution_count": null,
   "id": "4a2e8649",
   "metadata": {},
   "outputs": [],
   "source": [
    "df = df.drop(\"donor_id\", axis=\"columns\")\n",
    "df = df.drop(\"name\", axis=\"columns\")\n",
    "df = df.drop(\"email\", axis=\"columns\")\n",
    "df = df.drop(\"password\", axis=\"columns\")\n",
    "df = df.drop(\"contact_number\", axis=\"columns\")\n",
    "df = df.drop(\"city\", axis=\"columns\")\n",
    "df = df.drop(\"pints_donated\", axis=\"columns\")\n",
    "df = df.drop(\"created_at\", axis=\"columns\")\n",
    "df"
   ]
  },
  {
   "cell_type": "markdown",
   "id": "13c8f839",
   "metadata": {},
   "source": [
    "Além disso, iremos reestruturar a proridade disponibilidade para valores numéricos"
   ]
  },
  {
   "cell_type": "code",
   "execution_count": null,
   "id": "ad217ec8",
   "metadata": {},
   "outputs": [],
   "source": [
    "df['availability'] = df['availability'].replace({'Yes': True, 'No': False})\n",
    "df"
   ]
  },
  {
   "cell_type": "markdown",
   "id": "539cdc03",
   "metadata": {},
   "source": [
    "Agora iremos aplicar o One Hot Enconding para a propriedade de Tipos sanguíneos"
   ]
  },
  {
   "cell_type": "code",
   "execution_count": null,
   "id": "19a74dbc",
   "metadata": {},
   "outputs": [],
   "source": [
    "df = pd.get_dummies(df, columns=['blood_group'])\n",
    "df"
   ]
  },
  {
   "cell_type": "markdown",
   "id": "d3048ce0",
   "metadata": {},
   "source": [
    "Criando a coluna de doador ativo"
   ]
  },
  {
   "cell_type": "code",
   "execution_count": null,
   "id": "664c66d5",
   "metadata": {},
   "outputs": [],
   "source": [
    "df[\"years_since_first_donation\"] = df[\"months_since_first_donation\"] / 12\n",
    "df[\"donations_per_year\"] = df[\"number_of_donation\"] / df[\"years_since_first_donation\"]\n",
    "df[\"active_donor\"] = (df[\"donations_per_year\"] > 3).astype(int)\n",
    "df"
   ]
  },
  {
   "cell_type": "markdown",
   "id": "ff7f2cdd",
   "metadata": {},
   "source": [
    "Removendo outliers (Pessoas que doaram mais que 6x num ano)"
   ]
  },
  {
   "cell_type": "code",
   "execution_count": null,
   "id": "6f65ced5",
   "metadata": {},
   "outputs": [],
   "source": [
    "df = df[\n",
    "    (df[\"number_of_donation\"] / (df[\"months_since_first_donation\"] / 12)) <= 6\n",
    "].copy()\n",
    "df"
   ]
  },
  {
   "cell_type": "markdown",
   "id": "d3675e71",
   "metadata": {},
   "source": [
    "# 4. Criando algoritomos de classificação"
   ]
  },
  {
   "cell_type": "markdown",
   "id": "24e2ddb1",
   "metadata": {},
   "source": [
    "Preparando a propriedade alvo"
   ]
  },
  {
   "cell_type": "code",
   "execution_count": null,
   "id": "3379baaf",
   "metadata": {},
   "outputs": [],
   "source": [
    "X = df.drop(columns=[\"active_donor\"])\n",
    "y = df[\"active_donor\"]\n",
    "X = X.astype(int)"
   ]
  },
  {
   "cell_type": "markdown",
   "id": "0a79d128",
   "metadata": {},
   "source": [
    "## 4.1 Árvore Binária"
   ]
  },
  {
   "cell_type": "code",
   "execution_count": null,
   "id": "f98cd579",
   "metadata": {},
   "outputs": [],
   "source": [
    "clf = DecisionTreeClassifier(max_depth=3, random_state=42)\n",
    "clf.fit(X, y)\n",
    "\n",
    "plt.figure(figsize=(20, 10))\n",
    "plot_tree(clf, feature_names=X.columns, class_names=[\"Inativo\", \"Ativo\"], filled=True, fontsize=12)\n",
    "plt.show()"
   ]
  },
  {
   "cell_type": "markdown",
   "id": "ee83c8bc",
   "metadata": {},
   "source": [
    "### Teste da arvore binária"
   ]
  },
  {
   "cell_type": "code",
   "execution_count": null,
   "id": "90a1f951",
   "metadata": {},
   "outputs": [],
   "source": [
    "X_train, X_test, y_train, y_test = train_test_split(\n",
    "    X, y, test_size=0.05, random_state=42\n",
    ")\n",
    "\n",
    "clf = DecisionTreeClassifier(max_depth=3, random_state=42)\n",
    "clf.fit(X_train, y_train)\n",
    "\n",
    "y_pred = clf.predict(X_test)\n",
    "\n",
    "accuracy = accuracy_score(y_test, y_pred)\n",
    "print(f\"Acurácia: {accuracy:.2%}\")"
   ]
  },
  {
   "cell_type": "markdown",
   "id": "f54e2b80",
   "metadata": {},
   "source": [
    "## 4.2 KNN"
   ]
  },
  {
   "cell_type": "code",
   "execution_count": null,
   "id": "0389960e",
   "metadata": {},
   "outputs": [],
   "source": [
    "# Definindo dataset de teste\n",
    "X_train, X_test, y_train, y_test = train_test_split(\n",
    "    X, y, test_size=0.05, random_state=42\n",
    ")"
   ]
  },
  {
   "cell_type": "code",
   "execution_count": null,
   "id": "d4716a10",
   "metadata": {},
   "outputs": [],
   "source": [
    "knn = KNeighborsClassifier(n_neighbors=5)\n",
    "knn.fit(X_train, y_train)\n",
    "y_pred = knn.predict(X_test)\n",
    "\n",
    "print(f\"Acurácia: {accuracy_score(y_test, y_pred):.2%}\")\n",
    "print(\"\\nRelatório de Classificação:\\n\", classification_report(y_test, y_pred))\n",
    "print(\"\\nMatriz de Confusão:\\n\", pd.DataFrame(confusion_matrix(y_test, y_pred),\n",
    "      index=[\"Real Inativo\", \"Real Ativo\"],\n",
    "      columns=[\"Previsto Inativo\", \"Previsto Ativo\"]))"
   ]
  },
  {
   "cell_type": "markdown",
   "id": "e11b4f98",
   "metadata": {},
   "source": [
    "## 4.3 Regressão logística"
   ]
  },
  {
   "cell_type": "code",
   "execution_count": null,
   "id": "49e1f590",
   "metadata": {},
   "outputs": [],
   "source": [
    "X_train, X_test, y_train, y_test = train_test_split(\n",
    "    X, y, test_size=0.05, random_state=42\n",
    ")"
   ]
  },
  {
   "cell_type": "code",
   "execution_count": null,
   "id": "845d6e50",
   "metadata": {},
   "outputs": [],
   "source": [
    "log_reg = LogisticRegression(max_iter=1000)\n",
    "log_reg.fit(X_train, y_train)\n",
    "y_proba = log_reg.predict_proba(X_test)[:, 1]\n",
    "fpr, tpr, thresholds = roc_curve(y_test, y_proba)\n",
    "\n",
    "auc_score = roc_auc_score(y_test, y_proba)\n",
    "plt.figure(figsize=(8, 6))\n",
    "plt.plot(fpr, tpr, color='blue', label=f'ROC curve (AUC = {auc_score:.2f})')\n",
    "plt.plot([0, 1], [0, 1], color='red', linestyle='--', label='Random guess')\n",
    "plt.xlabel('False Positive Rate')\n",
    "plt.ylabel('True Positive Rate')\n",
    "plt.title('Curva ROC - Classificação de Doadores Ativos')\n",
    "plt.legend(loc='lower right')\n",
    "plt.grid(True)\n",
    "plt.show()\n",
    "print(f\"AUC: {auc_score:.2f}\")"
   ]
  }
 ],
 "metadata": {
  "kernelspec": {
   "display_name": "Python 3",
   "language": "python",
   "name": "python3"
  },
  "language_info": {
   "codemirror_mode": {
    "name": "ipython",
    "version": 3
   },
   "file_extension": ".py",
   "mimetype": "text/x-python",
   "name": "python",
   "nbconvert_exporter": "python",
   "pygments_lexer": "ipython3",
   "version": "3.13.7"
  }
 },
 "nbformat": 4,
 "nbformat_minor": 5
}
