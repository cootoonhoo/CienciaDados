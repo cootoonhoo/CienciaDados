{
 "cells": [
  {
   "cell_type": "markdown",
   "id": "f01fec6e",
   "metadata": {},
   "source": []
  },
  {
   "cell_type": "markdown",
   "id": "2299d353",
   "metadata": {},
   "source": [
    "# Estudo sobre Doação de sangue"
   ]
  },
  {
   "cell_type": "markdown",
   "id": "f7d27063",
   "metadata": {},
   "source": [
    "## 1. Sobre o Projeto"
   ]
  },
  {
   "cell_type": "markdown",
   "id": "a73a4224",
   "metadata": {},
   "source": [
    "Nesse projeto, buscamos pesquisar e entender a similaridade entre doadores de sangue e a construção de um algoritmo capaz de predizer a probabilidade de uma pessoa ser doadora de sangue.\n",
    "Para isso, usamos a base de dados Predicting Blood Donor Availability *(disponíel em : https://www.kaggle.com/datasets/sumedh1507/blood-donor-dataset?resource=download)* para elaboração desse projeto."
   ]
  },
  {
   "cell_type": "markdown",
   "id": "0a6e4776",
   "metadata": {},
   "source": [
    "Essa base de dados possui 10 mil entradas, com os seguintes atributos:\n",
    "- Id de doador\n",
    "- Nome\n",
    "- Email\n",
    "- Senha\n",
    "- Telefone\n",
    "- Cidade\n",
    "- Tipo sanguíneo\n",
    "- Disponibilidade\n",
    "- Meses desde a primeira doação\n",
    "- Número de doações\n",
    "- Pints (500ml) doados\n",
    "- Data de criação"
   ]
  },
  {
   "cell_type": "markdown",
   "id": "31c6261e",
   "metadata": {},
   "source": [
    "## 1.1 Metodologia"
   ]
  },
  {
   "cell_type": "markdown",
   "id": "917b0925",
   "metadata": {},
   "source": [
    "Como nosso objetivo principal é chegarmos a uma predição de uma nova entrada, irems estabeler algumas regras para execução desse estudo.\n",
    "\n",
    "Para nos auxiliar com o estudo, iremos focar apenas nas propriedades: Tipo sanguíneo, Disponibilidade, Meses desde a primeira doação, número de doações e data de criação."
   ]
  },
  {
   "cell_type": "markdown",
   "id": "b63f1111",
   "metadata": {},
   "source": [
    "## 1.2 Agrupamento"
   ]
  },
  {
   "cell_type": "markdown",
   "id": "094ab092",
   "metadata": {},
   "source": [
    "Para auxiliar na predição do nosso modelo, agruparemos nossos dados em dois grupos:\n",
    "- Doadores ativos\n",
    "- Doadores inativos\n",
    "\n",
    "Os ativos são doadores que desde a sua primeira doação, fizeram pelo menos uma doação por ano. Já os inativos, são todos aqueles que doaram menos de 1x por ano desde seu registro.\n",
    "\n",
    "Isso será importante para classificação dos doadores na nossa base de dados"
   ]
  },
  {
   "cell_type": "markdown",
   "id": "956a092a",
   "metadata": {},
   "source": [
    "# 2. Algoritmo do projeto"
   ]
  },
  {
   "cell_type": "markdown",
   "id": "a044f09b",
   "metadata": {},
   "source": [
    "### Variáveis globais"
   ]
  },
  {
   "cell_type": "code",
   "execution_count": 3,
   "id": "5434a289",
   "metadata": {},
   "outputs": [],
   "source": [
    "DATASET_PATH = \"./dataset/blood_donor_dataset.csv\""
   ]
  },
  {
   "cell_type": "markdown",
   "id": "25fd41ab",
   "metadata": {},
   "source": [
    "## 2.1 Importação de bibliotecas"
   ]
  },
  {
   "cell_type": "code",
   "execution_count": 4,
   "id": "27a9c6c0",
   "metadata": {},
   "outputs": [],
   "source": [
    "import pandas as pd"
   ]
  },
  {
   "cell_type": "markdown",
   "id": "5f0232ed",
   "metadata": {},
   "source": [
    "## 2.2 Atribuição da base de dados"
   ]
  },
  {
   "cell_type": "code",
   "execution_count": null,
   "id": "51b8dc87",
   "metadata": {},
   "outputs": [
    {
     "name": "stdout",
     "output_type": "stream",
     "text": [
      "        donor_id              name                          email    password  \\\n",
      "0     1b8b4c828a      Norma Fisher            ysullivan@yahoo.com  P5hX6Syg*A   \n",
      "1     a6a3f7fe55     Eugene Bowman       hramos@brown-sellers.com  b6Wq6Cqz@5   \n",
      "2     cee6478144  Sheri Bolton DDS          jasmine85@hotmail.com  $9RB51m#s7   \n",
      "3     5986bc55f9        Kelly Boyd  pattylawrence@riley-hayes.com  @5Tdg(4kCm   \n",
      "4     93246afe6c     Taylor Guzman       martinezjacob@wilson.com  x!)9Ag@J*7   \n",
      "...          ...               ...                            ...         ...   \n",
      "9995  700aeefbf1      Bradley Pham           jessica49@turner.com  ^@d9SMqSa1   \n",
      "9996  487b342992    Richard Harris              megan51@gmail.com  D1OAZg5i)g   \n",
      "9997  ddf4485d67        Autumn Kim       curtisdonald@wilson.info  3wU2fua(#7   \n",
      "9998  4256813ba5     Janice Murphy   jenningscristian@hotmail.com  &8zDeXl)b(   \n",
      "9999  5452d8afd3     Edward Graham               oyates@yahoo.com  ud(J5UjHh9   \n",
      "\n",
      "     contact_number       city blood_group availability  \\\n",
      "0     +61 461706749     Hobart          A+           No   \n",
      "1     +61 450709944     Darwin         AB-          Yes   \n",
      "2     +61 428756361  Melbourne         AB+          Yes   \n",
      "3     +61 454318320     Darwin          A-           No   \n",
      "4     +61 484158472     Darwin          O-           No   \n",
      "...             ...        ...         ...          ...   \n",
      "9995  +61 443906132     Hobart          A+          Yes   \n",
      "9996  +61 443105290     Hobart          O-           No   \n",
      "9997  +61 472390553     Hobart          B+           No   \n",
      "9998  +61 492945719      Perth         AB-          Yes   \n",
      "9999  +61 475905869   Canberra          O-           No   \n",
      "\n",
      "      months_since_first_donation  number_of_donation  pints_donated  \\\n",
      "0                              65                  31             62   \n",
      "1                              64                   8             16   \n",
      "2                              39                   6              6   \n",
      "3                              55                  20             20   \n",
      "4                               7                  35             35   \n",
      "...                           ...                 ...            ...   \n",
      "9995                           66                  42             42   \n",
      "9996                           65                  14             28   \n",
      "9997                           57                  16             32   \n",
      "9998                           79                  23             46   \n",
      "9999                          103                   8              8   \n",
      "\n",
      "      created_at  \n",
      "0     2017-03-17  \n",
      "1     2016-11-11  \n",
      "2     2022-02-25  \n",
      "3     2025-04-04  \n",
      "4     2022-11-30  \n",
      "...          ...  \n",
      "9995  2019-02-11  \n",
      "9996  2025-02-18  \n",
      "9997  2019-04-29  \n",
      "9998  2022-08-23  \n",
      "9999  2016-09-28  \n",
      "\n",
      "[10000 rows x 12 columns]\n"
     ]
    }
   ],
   "source": [
    "df = pd.read_csv(DATASET_PATH)"
   ]
  },
  {
   "cell_type": "markdown",
   "id": "2ba9a634",
   "metadata": {},
   "source": [
    "# 3. Pré processamento de dados"
   ]
  },
  {
   "cell_type": "markdown",
   "id": "8a013b85",
   "metadata": {},
   "source": [
    "Como dito anteriormente, iremos remover alguns dados irrelevantes para a parametrização do nosso (nome, telefone, cidade, etc...). Acreditamos que essas propriedades não impactam/ não fazem sentido para o problema proposto."
   ]
  },
  {
   "cell_type": "code",
   "execution_count": null,
   "id": "4a2e8649",
   "metadata": {},
   "outputs": [],
   "source": [
    "df.drop(\"donor_id\", axis=\"columns\" )"
   ]
  }
 ],
 "metadata": {
  "kernelspec": {
   "display_name": "Python 3",
   "language": "python",
   "name": "python3"
  },
  "language_info": {
   "codemirror_mode": {
    "name": "ipython",
    "version": 3
   },
   "file_extension": ".py",
   "mimetype": "text/x-python",
   "name": "python",
   "nbconvert_exporter": "python",
   "pygments_lexer": "ipython3",
   "version": "3.13.7"
  }
 },
 "nbformat": 4,
 "nbformat_minor": 5
}
