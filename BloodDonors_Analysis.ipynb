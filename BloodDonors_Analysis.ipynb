{
 "cells": [
  {
   "cell_type": "markdown",
   "id": "032ba493",
   "metadata": {},
   "source": [
    "# Análise de Doadores de Sangue\n",
    "\n",
    "Este notebook realiza o processamento, análise exploratória e classificação dos doadores para prever a **disponibilidade para doação**."
   ]
  },
  {
   "cell_type": "code",
   "execution_count": null,
   "id": "46b86561",
   "metadata": {},
   "outputs": [],
   "source": [
    "\n",
    "import pandas as pd\n",
    "import numpy as np\n",
    "import matplotlib.pyplot as plt\n",
    "import seaborn as sns\n",
    "\n",
    "from sklearn.model_selection import train_test_split, cross_val_score\n",
    "from sklearn.preprocessing import OneHotEncoder, LabelEncoder\n",
    "from sklearn.metrics import accuracy_score, roc_auc_score, classification_report, confusion_matrix\n",
    "from sklearn.neighbors import KNeighborsClassifier\n",
    "from sklearn.tree import DecisionTreeClassifier\n",
    "from sklearn.ensemble import RandomForestClassifier\n",
    "\n",
    "# Configurações gerais\n",
    "pd.set_option('display.max_columns', None)\n",
    "sns.set(style='whitegrid')\n"
   ]
  },
  {
   "cell_type": "code",
   "execution_count": null,
   "id": "43396159",
   "metadata": {},
   "outputs": [],
   "source": [
    "\n",
    "# Substitua pelo caminho correto do seu arquivo CSV\n",
    "df = pd.read_csv(\"./dataset/blood_donor_dataset.csv\")  #\n",
    "df.head()\n"
   ]
  },
  {
   "cell_type": "code",
   "execution_count": null,
   "id": "22362b69",
   "metadata": {},
   "outputs": [],
   "source": [
    "\n",
    "df.info()\n",
    "df.describe()\n"
   ]
  },
  {
   "cell_type": "code",
   "execution_count": null,
   "id": "a325f069",
   "metadata": {},
   "outputs": [],
   "source": [
    "\n",
    "# Distribuição da variável alvo\n",
    "plt.figure(figsize=(6,4))\n",
    "sns.countplot(data=df, x='availability')\n",
    "plt.title('Distribuição da Disponibilidade para Doação')\n",
    "plt.show()\n",
    "\n",
    "# Relação entre número de doações e disponibilidade\n",
    "plt.figure(figsize=(6,4))\n",
    "sns.boxplot(data=df, x='availability', y='number_of_donation')\n",
    "plt.title('Número de Doações vs Disponibilidade')\n",
    "plt.show()\n"
   ]
  },
  {
   "cell_type": "code",
   "execution_count": null,
   "id": "166eb03e",
   "metadata": {},
   "outputs": [],
   "source": [
    "\n",
    "# Seleção de features\n",
    "features = [\"months_since_first_donation\", \"number_of_donation\", \"pints_donated\", \"blood_group\"]\n",
    "target = \"availability\"\n",
    "\n",
    "X = df[features]\n",
    "y = df[target]\n",
    "\n",
    "# Codificação da variável categórica\n",
    "encoder = OneHotEncoder(drop='first', sparse_output=False)\n",
    "blood_group_encoded = encoder.fit_transform(X[['blood_group']])\n",
    "blood_group_df = pd.DataFrame(blood_group_encoded, columns=encoder.get_feature_names_out(['blood_group']))\n",
    "X = X.drop(columns=['blood_group']).reset_index(drop=True)\n",
    "X = pd.concat([X, blood_group_df], axis=1)\n",
    "\n",
    "# Codificação do alvo\n",
    "label_enc = LabelEncoder()\n",
    "y = label_enc.fit_transform(y)\n",
    "\n",
    "# Divisão treino/teste\n",
    "X_train, X_test, y_train, y_test = train_test_split(X, y, test_size=0.2, random_state=42, stratify=y)\n"
   ]
  },
  {
   "cell_type": "code",
   "execution_count": null,
   "id": "937545eb",
   "metadata": {},
   "outputs": [],
   "source": [
    "\n",
    "models = {\n",
    "    \"KNN\": KNeighborsClassifier(n_neighbors=5),\n",
    "    \"Decision Tree\": DecisionTreeClassifier(random_state=42),\n",
    "    \"Random Forest\": RandomForestClassifier(n_estimators=100, random_state=42)\n",
    "}\n",
    "\n",
    "results = []\n",
    "\n",
    "for name, model in models.items():\n",
    "    print(f\"\\n=== {name} ===\")\n",
    "    model.fit(X_train, y_train)\n",
    "    y_pred = model.predict(X_test)\n",
    "\n",
    "    acc = accuracy_score(y_test, y_pred)\n",
    "    roc = roc_auc_score(y_test, y_pred)\n",
    "    cv = cross_val_score(model, X, y, cv=5).mean()\n",
    "\n",
    "    print(f\"Accuracy: {acc:.4f}\")\n",
    "    print(f\"ROC AUC: {roc:.4f}\")\n",
    "    print(f\"Cross-Validation (5-fold): {cv:.4f}\")\n",
    "    print(\"Confusion Matrix:\")\n",
    "    print(confusion_matrix(y_test, y_pred))\n",
    "    print(\"\\nClassification Report:\")\n",
    "    print(classification_report(y_test, y_pred, target_names=label_enc.classes_))\n",
    "\n",
    "    results.append({\"Model\": name, \"Accuracy\": acc, \"ROC AUC\": roc, \"CV Mean\": cv})\n",
    "\n",
    "results_df = pd.DataFrame(results)\n",
    "results_df\n"
   ]
  }
 ],
 "metadata": {
  "language_info": {
   "name": "python"
  }
 },
 "nbformat": 4,
 "nbformat_minor": 5
}
